{
 "cells": [
  {
   "cell_type": "code",
   "execution_count": 1,
   "metadata": {},
   "outputs": [],
   "source": [
    "from urllib.request import urlopen\n",
    "from bs4 import BeautifulSoup\n",
    "import datetime\n",
    "import random\n",
    "import re\n",
    "import pandas as pd\n",
    "import numpy as np\n",
    "import requests\n",
    "import re\n",
    "from itertools import groupby\n",
    "\n",
    "\n",
    "def Get_detail_stagaires_ma(URL):\n",
    "    html = requests.get(URL).text\n",
    "    bs_ = BeautifulSoup(html,'html.parser')\n",
    "    Company_name = bs_.find('h4',{'class':'inline'}).get_text()\n",
    "    Profil = bs_.findAll('div',{'class':'col-sm-4 col-xs-6 m-b-sm'})\n",
    "    Profil_recherches = []\n",
    "    for i in Profil:\n",
    "       #Profil_recherche=Profil_recherche + i.strong.get_text()+' | '\n",
    "       Profil_recherches.append(i.strong.get_text())\n",
    "    Type = Profil_recherches[0]\n",
    "    Duree_du_stage = Profil_recherches[2]\n",
    "    Convention = Profil_recherches[3]\n",
    "    Prime_de_stage = Profil_recherches[4]\n",
    "    Types_de_stage = Profil_recherches[5]\n",
    "    Niveau_etude = bs_.find('div',{'class':'col-sm-4 col-xs-6'}).strong.get_text()\n",
    "    Type_de_formation = bs_.find('div',{'class':'col-sm-8 col-xs-6'}).strong.get_text()\n",
    "    Descriptif_de_la_mission = bs_.find('div',{'class':'well well-sm m-b-none'})\n",
    "    Resultat = ''\n",
    "    for i in Descriptif_de_la_mission:\n",
    "      i=re.sub('<p>', ' ', str(i))\n",
    "      i=re.sub(\"</p>\", ' ', i)\n",
    "      i=re.sub('</ul>', ' ', i)\n",
    "      i=re.sub('<ul>', ' ', i)\n",
    "      i=re.sub('<li>', ' ', i)\n",
    "      i=re.sub('</li>', ' ', i)\n",
    "      i=re.sub('<u>', ' ', i)\n",
    "      i=re.sub('</u>', ' ', i)\n",
    "      Resultat = Resultat+ i\n",
    "    return Resultat,Company_name,Duree_du_stage,Convention,Prime_de_stage,Types_de_stage,Niveau_etude,Type_de_formation\n",
    "    \n",
    "\n",
    "      \n",
    "    \n",
    "        \n",
    "    #print(description_entreprise)\n",
    "    #i = bs_.findAll('p')\n",
    "    #DESCRIPTION_ENTREPRISE=i[0].get_text()\n",
    "    #CONTEXTE_MISSION=i[1].get_text()\n",
    "    #PROFIL_RECHERCHE=i[2].get_text()\n",
    "    #return(DESCRIPTION_ENTREPRISE,CONTEXTE_MISSION,PROFIL_RECHERCHE)\n",
    "\n",
    "def Get_stagaires_ma(PageNumber):  \n",
    "  html = requests.get('https://www.stagiaires.ma/offres-stages/{}'.format(PageNumber)).text\n",
    "  bs = BeautifulSoup(html,'html.parser')\n",
    "  Offres = bs.findAll('div',{'class':'offer-container p-xxs m-b-xs bg-muted'})\n",
    "  data = {'Titre': [],'Company_name':[],'stage-depart':[],'Duree_du_stage':[],'Convention':[],'Types_de_stage':[],'Prime_de_stage':[],'Niveau_etude':[],'Type_de_formation':[],'Descriptif_de_la_mission':[]}\n",
    "  for offre in Offres:\n",
    "    Titre = offre.find('strong').get_text()\n",
    "    data['Titre'].append(Titre)\n",
    "\n",
    "    stage_depart = offre.find('small', {'data-placement':'top'}).get_text()\n",
    "    data['stage-depart'].append(stage_depart)\n",
    "\n",
    "    link = offre.a['href']\n",
    "    Resultat,Company_name,Duree_du_stage,Convention,Prime_de_stage,Types_de_stage,Niveau_etude,Type_de_formation = Get_detail_stagaires_ma(str(link))\n",
    "    data['Company_name'].append(Company_name)\n",
    "    data['Duree_du_stage'].append(Duree_du_stage)\n",
    "    data['Convention'].append(Convention)\n",
    "    data['Prime_de_stage'].append(Prime_de_stage)\n",
    "    data['Types_de_stage'].append(Types_de_stage)\n",
    "    data['Niveau_etude'].append(Niveau_etude)\n",
    "    data['Type_de_formation'].append(Type_de_formation)\n",
    "    \n",
    "    data['Descriptif_de_la_mission'].append(Resultat)\n",
    "\n",
    "\n",
    "\n",
    "  return pd.DataFrame(data)\n",
    "\n",
    "\n",
    "\n",
    "\n",
    "\n",
    "pages = ['','1','2','3','4','5','6','7']\n",
    "appended_data = []\n",
    "for page in pages :    \n",
    "    data =Get_stagaires_ma(page)\n",
    "    appended_data.append(data)\n",
    "appended_data = pd.concat(appended_data)\n"
   ]
  },
  {
   "cell_type": "code",
   "execution_count": 2,
   "metadata": {},
   "outputs": [],
   "source": [
    "appended_data.to_csv('StagairesMa.csv', index=False, encoding='utf-8')   "
   ]
  },
  {
   "cell_type": "code",
   "execution_count": 3,
   "metadata": {},
   "outputs": [],
   "source": [
    "appended_data.to_excel('StagairesMa.xlsx', index=False, encoding='utf-8')"
   ]
  },
  {
   "cell_type": "code",
   "execution_count": null,
   "metadata": {},
   "outputs": [],
   "source": [
    "\n"
   ]
  },
  {
   "cell_type": "code",
   "execution_count": null,
   "metadata": {},
   "outputs": [],
   "source": []
  },
  {
   "cell_type": "code",
   "execution_count": null,
   "metadata": {},
   "outputs": [],
   "source": []
  }
 ],
 "metadata": {
  "kernelspec": {
   "display_name": "Python 3",
   "language": "python",
   "name": "python3"
  },
  "language_info": {
   "codemirror_mode": {
    "name": "ipython",
    "version": 3
   },
   "file_extension": ".py",
   "mimetype": "text/x-python",
   "name": "python",
   "nbconvert_exporter": "python",
   "pygments_lexer": "ipython3",
   "version": "3.8.3"
  }
 },
 "nbformat": 4,
 "nbformat_minor": 4
}
